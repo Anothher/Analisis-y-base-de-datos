{
  "nbformat": 4,
  "nbformat_minor": 0,
  "metadata": {
    "colab": {
      "provenance": [],
      "authorship_tag": "ABX9TyOOviweVlHLNHWfpnjYcbqZ",
      "include_colab_link": true
    },
    "kernelspec": {
      "name": "python3",
      "display_name": "Python 3"
    },
    "language_info": {
      "name": "python"
    }
  },
  "cells": [
    {
      "cell_type": "markdown",
      "metadata": {
        "id": "view-in-github",
        "colab_type": "text"
      },
      "source": [
        "<a href=\"https://colab.research.google.com/github/Anothher/Python/blob/master/RetoFinalBausi.ipynb\" target=\"_parent\"><img src=\"https://colab.research.google.com/assets/colab-badge.svg\" alt=\"Open In Colab\"/></a>"
      ]
    },
    {
      "cell_type": "code",
      "execution_count": null,
      "metadata": {
        "id": "ZPxMw-7o_ObW"
      },
      "outputs": [],
      "source": [
        "import pandas as pd\n",
        "import matplotlib.pyplot as plt\n"
      ]
    },
    {
      "cell_type": "code",
      "source": [
        "df = pd.read_excel(\"/content/VentasBAUSIRetoMod.xlsx\")\n",
        "df"
      ],
      "metadata": {
        "id": "5h1rhZTw_nGs"
      },
      "execution_count": null,
      "outputs": []
    },
    {
      "cell_type": "code",
      "source": [
        "df.info()"
      ],
      "metadata": {
        "id": "LqjJ0IORLFGM"
      },
      "execution_count": null,
      "outputs": []
    },
    {
      "cell_type": "code",
      "source": [
        "######################################################################################################################################################\n",
        "# ||| DataFrame Limpio.|||\n",
        "df_limpio = df.fillna({\"CANTIDAD_PRODUCTO\":0.0,\"CANTIDAD_DEVOLUCION\":0.0,\"PRECIO_TOTAL_DEVOL\":0.0,\"PRECIO_TOTAL\":0.0})\n",
        "df1 = pd.DataFrame(df_limpio)\n",
        "\n",
        "# |El Total de los precios por devoluciones.|\n",
        "\n",
        "totalDevolucion = df['PRECIO_TOTAL_DEVOL'].sum()\n",
        "\n",
        "# |La Cantidad total de devoluciones.|\n",
        "\n",
        "cpd = df['CANTIDAD_DEVOLUCION'].sum()\n",
        "\n",
        "# |El Total de ventas por género masculino.|\n",
        "\n",
        "hombre = df1[df1[\"GENERO\"] == \"HOMBRE\"]\n",
        "totalv = hombre['PRECIO_TOTAL'].sum()\n",
        "\n",
        "# |El Total de precios por devolución por año.|\n",
        "\n",
        "# 2021\n",
        "devolucionAño2021 = df1[df1[\"AÑO\"] == 2021]\n",
        "totalDevAño2021 = devolucionAño2021['PRECIO_TOTAL_DEVOL'].sum()\n",
        "\n",
        "# 2022\n",
        "devolucionAño2022 = df1[df1[\"AÑO\"] == 2022]\n",
        "totalDevAño2022 = devolucionAño2022['PRECIO_TOTAL_DEVOL'].sum()\n",
        "\n",
        "######################################################################################################################################################"
      ],
      "metadata": {
        "id": "ndBXXj7JLYC9"
      },
      "execution_count": null,
      "outputs": []
    },
    {
      "cell_type": "code",
      "source": [
        "######################################################################################################################################################\n",
        "\n",
        "print(\"El Total de los precios por devoluciones es:\",int(totalDevolucion))\n",
        "print(\"La Cantidad total de devoluciones es:\",int(cpd))\n",
        "print(\"Devolucion del año 2021 es:\" ,int(totalDevAño2021))\n",
        "print(\"Devolucion del año 2022 es:\",int(totalDevAño2022))\n",
        "print(\"Total de ventas por género masculino:\",int(totalv))\n",
        "\n",
        "######################################################################################################################################################"
      ],
      "metadata": {
        "id": "OkfdbQoEBOkt"
      },
      "execution_count": null,
      "outputs": []
    },
    {
      "cell_type": "code",
      "source": [
        "from matplotlib import colors\n",
        "######################################################################################################################################################\n",
        "# GRAFICA IMPLEMENTANDO MATPLOTLIB\n",
        "\n",
        "# |El Total de los precios por devoluciones.|\n",
        "# |La Cantidad total de devoluciones.|\n",
        "# |El Total de ventas por género masculino.|\n",
        "# |El Total de precios por devolución por año.| \n",
        "\n",
        "colors = [\"#EE6055\",\"#60D394\",\"#AAF683\",\"#FFD97D\",\"#FF9B85\"]\n",
        "df.groupby([\"PRECIO_TOTAL_DEVOL\",\"NomMes\"]).size().unstack() .plot(kind = \"bar\", stacked= False, color=colors)\n",
        "plt.legend(bbox_to_anchor=(1.05,1.0),loc= \"upper left\")\n",
        "plt.title('El Total de los precios por devoluciones')\n",
        "plt.show()\n",
        "\n",
        "colors = [\"#EE6055\",\"#60D394\",\"#AAF683\",\"#FFD97D\",\"#FF9B85\"]\n",
        "df.groupby([\"NomMes\",\"CANTIDAD_DEVOLUCION\"]).size().unstack() .plot(kind = \"bar\", stacked= True, color=colors)\n",
        "plt.legend(bbox_to_anchor=(1.05,1.0),loc= \"upper left\")\n",
        "plt.title('La Cantidad total de devoluciones')\n",
        "plt.show()\n",
        "\n",
        "colors=[\"#EE6055\",\"#60D394\",\"#AAF683\",\"#FFD97D\",\"#FF9B85\"]\n",
        "df.groupby([\"NomMes\",df[\"GENERO\"] ==\"HOMBRE\"]).size().unstack().plot(kind= \"bar\", stacked = True, color=colors)\n",
        "plt.title('Total de ventas por género masculino')\n",
        "plt.show()\n",
        "\n",
        "colors=[\"#EE6055\",\"#60D394\",\"#AAF683\",\"#FFD97D\",\"#FF9B85\"]\n",
        "df.groupby([\"AÑO\",\"PRECIO_TOTAL_DEVOL\"]).size().unstack().plot(kind= \"bar\", stacked = False, color=colors)\n",
        "plt.legend(bbox_to_anchor=(1.05,1.0),loc= \"upper left\")\n",
        "plt.title('Total de precios por devolución por año')\n",
        "plt.show()\n",
        "\n",
        "#\n",
        "\n",
        "######################################################################################################################################################"
      ],
      "metadata": {
        "id": "SKa0PiwvmXmr"
      },
      "execution_count": null,
      "outputs": []
    },
    {
      "cell_type": "code",
      "source": [],
      "metadata": {
        "id": "iYIKMq5wG0FV"
      },
      "execution_count": null,
      "outputs": []
    }
  ]
}